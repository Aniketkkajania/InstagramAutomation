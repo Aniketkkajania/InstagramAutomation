{
 "cells": [
  {
   "cell_type": "markdown",
   "id": "1c0c9c75",
   "metadata": {},
   "source": [
    "# INSTABOT PART 2"
   ]
  },
  {
   "cell_type": "markdown",
   "id": "bbf7d9c8",
   "metadata": {},
   "source": [
    "### (LOGIN FUNCTION) we willl need these two function to perform further"
   ]
  },
  {
   "cell_type": "code",
   "execution_count": 67,
   "id": "68fff631",
   "metadata": {},
   "outputs": [],
   "source": [
    "import time\n",
    "from selenium import webdriver\n",
    "from selenium.webdriver.common.by import By\n",
    "from bs4 import BeautifulSoup as bs\n",
    "from selenium.webdriver.support.ui import WebDriverWait\n",
    "from selenium.webdriver.support import expected_conditions as EC\n",
    "import chromedriver_autoinstaller\n",
    "\n",
    "chromedriver_autoinstaller.install()\n",
    "sample_username = 'USER_NAME'\n",
    "sample_psw = 'PASSWORD'\n",
    "driver = webdriver.Chrome()\n",
    "\n",
    "def login(sample_user, sample_pswd, driver):\n",
    "    driver.get(\"https://instagram.com\")\n",
    "    time.sleep(3)\n",
    "    driver.maximize_window()\n",
    "    \n",
    "    user = driver.find_elements(By.XPATH, '//input[contains(@class, \"_aa4b _add6 _ac4d\")]')[0]\n",
    "    psw = driver.find_elements(By.XPATH, '//input[contains(@class, \"_aa4b _add6 _ac4d\")]')[1]\n",
    "    \n",
    "    user.send_keys(sample_username)\n",
    "    psw.send_keys(sample_psw)\n",
    "    login = driver.find_element(By.XPATH, '//button[contains(@class, \"_acan _acap _acas _aj1-\")]')\n",
    "    login.click()\n",
    "\n",
    "login(sample_username, sample_psw, driver)"
   ]
  },
  {
   "cell_type": "markdown",
   "id": "9bae507e",
   "metadata": {},
   "source": [
    "### (SEARCH FOOD)"
   ]
  },
  {
   "cell_type": "code",
   "execution_count": 10,
   "id": "afab3995",
   "metadata": {},
   "outputs": [
    {
     "name": "stdout",
     "output_type": "stream",
     "text": [
      "['food_tour_ent', 'bhopalfoodwalks', 'bhopalfoodlovers', 'indian_tasty_food', 'streetfoodbhopal', 'indore_streetfood', 'food', 'travelbitess', '_foodie.af_', 'bhopalfoodgram', 'foodenza_bhopal', 'food_street_indore', 'indori_foodiess', 'bhopalifoodguru', 'chocoheaven_deeply_divine', 'bhopali_foodies_', 'food_vlogs_and_recipes', 'food_blog_bhopal', 'foodpharmer', 'maldives.explores', 'china.travels', 'kawalpreet_kaur_kalsi', '__vaishali_sharma', 'usa.explores', 'explorer_bhaiya', 'roamingferalcat', 'bhookh_bakar_baithak', '_food.is.good._', 'ganeshamfastfoodbhopal', 'dietitiandeanna', '__food.fanatic__', 'indorefooddelicacy', 'rays.indorefoodcourt', 'food_unlock_official', 'japan.explores', 'thailand.explores', 'indorefoodexplorer', 'foodtemptationsbhopal', 'miami.explorers', 'paragbakery_and_fast_food', 'foodie_batra', 'chai_ke_aashik', 'foodie_traveler___', 'food_prismmm', 'ishita_neema', 'utsahfood', 'indori_food_rider', 'foodiliciouscravings', 'sweettweapon_']\n"
     ]
    }
   ],
   "source": [
    "def search(query, driver):\n",
    "    srch_button = driver.find_elements(By.CLASS_NAME, '_ab6-')[2]\n",
    "    srch_button.click()\n",
    "    srch_text = driver.find_element(By.XPATH, '//div//input[@aria-label=\"Search input\"]')\n",
    "    srch_text.send_keys(query) \n",
    "    time.sleep(4)\n",
    "    # Extracting all ig handles that comes when we search food or any query\n",
    "    all_ig_handle = driver.find_elements(By.XPATH, '//div[contains(@class, \"x9f619 xjbqb8w x78zum5 x168nmei x13lgxp2 x5pf9jr xo71vjh x1uhb9sk x1plvlek xryxfnj x1c4vz4f x2lah0s x1q0g3np xqjyukv x6s0dn4 x1oa3qoh x1nhvcw1\")]')\n",
    "    users_names = []\n",
    "    #printing all ig handles\n",
    "    for user in all_ig_handle:\n",
    "        handle_name = user.find_element(By.TAG_NAME, 'span').text\n",
    "        if handle_name != \"\":\n",
    "            users_names.append(handle_name)\n",
    "    driver.find_elements(By.CLASS_NAME, \"_ab6-\")[1].click()\n",
    "    return users_names\n",
    "\n",
    "query = 'food'\n",
    "print(search(query, driver))"
   ]
  },
  {
   "cell_type": "markdown",
   "id": "4da8be15",
   "metadata": {},
   "source": [
    "### OPENING PROFILE OF ANY SEARCH QUERY"
   ]
  },
  {
   "cell_type": "code",
   "execution_count": 77,
   "id": "295fab3a",
   "metadata": {},
   "outputs": [],
   "source": [
    "def search_user(query, driver):\n",
    "    \n",
    "    srch_button = driver.find_elements(By.CLASS_NAME, '_ab6-')[2]\n",
    "    srch_button.click()\n",
    "    WebDriverWait(driver, 20).until(EC.element_to_be_clickable((By.XPATH,\n",
    "                                                    '//div[contains(@class, \"_aaw6\")]')))\n",
    "    time.sleep(3)\n",
    "    \n",
    "    srch_text = driver.find_element(By.XPATH, '//div//input[@aria-label=\"Search input\"]')\n",
    "    srch_text.send_keys(query)\n",
    "    \n",
    "    WebDriverWait(driver, 10).until(EC.presence_of_element_located((By.XPATH, f'//span[text()=\"{query}\"]')))\n",
    "    \n",
    "    driver.find_element(By.XPATH, f'//span[text()=\"{query}\"]').click()\n",
    "    \n",
    "search_user(\"sodelhi\", driver)"
   ]
  },
  {
   "cell_type": "markdown",
   "id": "5ec71222",
   "metadata": {},
   "source": [
    "# INSTABOT PART 2"
   ]
  },
  {
   "cell_type": "markdown",
   "id": "a995cc45",
   "metadata": {},
   "source": [
    "### FIRST TASK (ANALYZE BEHAVIOR OF BLOGGERS)"
   ]
  },
  {
   "cell_type": "code",
   "execution_count": 2,
   "id": "8ad7c12b",
   "metadata": {},
   "outputs": [],
   "source": [
    "login(sample_username, sample_psw, driver)"
   ]
  },
  {
   "cell_type": "code",
   "execution_count": 20,
   "id": "3378b96a",
   "metadata": {},
   "outputs": [],
   "source": [
    "first_10 = search('food', driver)[:10] # actually if i takes first 10 then there is not much user handles, so im first searching all handles\n",
    "# after searching all handles i will arrange it on descending order of their followers. and take out top 5 after that"
   ]
  },
  {
   "cell_type": "code",
   "execution_count": 21,
   "id": "8ecc4525",
   "metadata": {},
   "outputs": [
    {
     "data": {
      "text/plain": [
       "['food_tour_ent',\n",
       " 'bhopalfoodwalks',\n",
       " 'bhopalfoodlovers',\n",
       " 'indian_tasty_food',\n",
       " 'streetfoodbhopal',\n",
       " 'indore_streetfood',\n",
       " 'food',\n",
       " 'travelbitess',\n",
       " '_foodie.af_',\n",
       " 'bhopalfoodgram']"
      ]
     },
     "execution_count": 21,
     "metadata": {},
     "output_type": "execute_result"
    }
   ],
   "source": [
    "first_10"
   ]
  },
  {
   "cell_type": "code",
   "execution_count": 26,
   "id": "a5d1a5ce",
   "metadata": {},
   "outputs": [],
   "source": [
    "user_followers = {}\n",
    "def extract_followers_num(driver, all_handles):\n",
    "    for query in all_handles:\n",
    "        search_user(query, driver)\n",
    "        WebDriverWait(driver, 20).until(EC.element_to_be_clickable((By.XPATH, '//ul[contains(@class, \"x78zum5 x1q0g3np xieb3on\")]')))\n",
    "\n",
    "        html = driver.find_elements(By.XPATH, '//ul[contains(@class, \"x78zum5 x1q0g3np xieb3on\")]/li')[1].get_attribute('innerHTML')\n",
    "        data = bs(html, \"html.parser\")\n",
    "        follower_num = int(data.find('span')['title'].replace(',',\"\"))\n",
    "\n",
    "        user_followers[query] = follower_num\n",
    "        \n",
    "        home_btn = driver.find_element(By.CLASS_NAME, \"_ab6-\")\n",
    "        home_btn.click()\n",
    "        time.sleep(4)\n",
    "\n",
    "    return user_followers"
   ]
  },
  {
   "cell_type": "code",
   "execution_count": 27,
   "id": "f417599b",
   "metadata": {},
   "outputs": [],
   "source": [
    "# extract_followers_num(driver, first_10)"
   ]
  },
  {
   "cell_type": "code",
   "execution_count": 28,
   "id": "22c0662f",
   "metadata": {},
   "outputs": [],
   "source": [
    "followers_count = extract_followers_num(driver,first_10)"
   ]
  },
  {
   "cell_type": "code",
   "execution_count": 30,
   "id": "48f7f47b",
   "metadata": {},
   "outputs": [],
   "source": [
    "followers_count = dict(sorted(followers_count.items(), key=lambda item: item[1], reverse = True)[:5])"
   ]
  },
  {
   "cell_type": "code",
   "execution_count": 31,
   "id": "2b9c5f4b",
   "metadata": {},
   "outputs": [
    {
     "data": {
      "text/plain": [
       "{'food': 182580,\n",
       " 'bhopalfoodwalks': 30202,\n",
       " 'indian_tasty_food': 18907,\n",
       " '_foodie.af_': 14931,\n",
       " 'travelbitess': 12632}"
      ]
     },
     "execution_count": 31,
     "metadata": {},
     "output_type": "execute_result"
    }
   ],
   "source": [
    "followers_count # THESE ARE THE TOP 5 HANDLES WHICH HAVE MOST NUMBER OF FOLLOWERS IN DESCENDING ORDER"
   ]
  },
  {
   "cell_type": "code",
   "execution_count": 32,
   "id": "12b6ad3c",
   "metadata": {},
   "outputs": [],
   "source": [
    "# Now we will find the number of posts they have did in previous 3 days\n",
    "import datetime\n",
    "today_date = datetime.date.today()\n",
    "_3_days_ago = today_date-datetime.timedelta(days = 3)"
   ]
  },
  {
   "cell_type": "code",
   "execution_count": 33,
   "id": "58fe741c",
   "metadata": {},
   "outputs": [
    {
     "data": {
      "text/plain": [
       "datetime.date(2023, 6, 22)"
      ]
     },
     "execution_count": 33,
     "metadata": {},
     "output_type": "execute_result"
    }
   ],
   "source": [
    "_3_days_ago"
   ]
  },
  {
   "cell_type": "code",
   "execution_count": 293,
   "id": "8f362e34",
   "metadata": {},
   "outputs": [],
   "source": [
    "# so we will compare if the date in post is greater than the _3_days_ago date"
   ]
  },
  {
   "cell_type": "code",
   "execution_count": 35,
   "id": "e7cfddb2",
   "metadata": {},
   "outputs": [],
   "source": [
    "posts_date = driver.find_element(By.CLASS_NAME, \"_aaqe\").get_attribute('title')"
   ]
  },
  {
   "cell_type": "code",
   "execution_count": 36,
   "id": "0c1d5aed",
   "metadata": {},
   "outputs": [
    {
     "data": {
      "text/plain": [
       "datetime.date(2022, 3, 9)"
      ]
     },
     "execution_count": 36,
     "metadata": {},
     "output_type": "execute_result"
    }
   ],
   "source": [
    "# Now i will convert this date into datetime object\n",
    "date_object = datetime.datetime.strptime(posts_date, \"%b %d, %Y\").date()\n",
    "date_object"
   ]
  },
  {
   "cell_type": "code",
   "execution_count": 42,
   "id": "2ee02e46",
   "metadata": {},
   "outputs": [],
   "source": [
    "def extract_posts_count(driver, users):\n",
    "    posts_count = {}\n",
    "    for user in users:\n",
    "        posts_count[user] = 0\n",
    "        search_user(user, driver)\n",
    "        time.sleep(3)\n",
    "        WebDriverWait(driver, 20).until(EC.element_to_be_clickable((By.XPATH, '//div[contains(@class, \"_ac7v  _al3n\")]')))\n",
    "        driver.find_element(By.CLASS_NAME, '_aagu').click()\n",
    "\n",
    "        current_date = datetime.date.today()\n",
    "        _3_days_ago = current_date-datetime.timedelta(days = 3)\n",
    "        time.sleep(2)\n",
    "        posts_date = driver.find_element(By.CLASS_NAME, \"_aaqe\").get_attribute('title')\n",
    "        date_object = datetime.datetime.strptime(posts_date, \"%b %d, %Y\").date()\n",
    "\n",
    "        while date_object>=_3_days_ago:\n",
    "            if date_object == current_date:\n",
    "                WebDriverWait(driver, 20).until(EC.element_to_be_clickable((By.XPATH,\n",
    "                    '//button[contains(@class, \"_abl-\")]//*[@aria-label=\"Next\"]'))).click()\n",
    "                time.sleep(2)\n",
    "                posts_date = driver.find_element(By.CLASS_NAME, \"_aaqe\").get_attribute('title')\n",
    "                date_object = datetime.datetime.strptime(posts_date, \"%b %d, %Y\").date()\n",
    "            elif user in posts_count:\n",
    "                posts_count[user]+=1\n",
    "                WebDriverWait(driver, 20).until(EC.element_to_be_clickable((By.XPATH,\n",
    "                    '//button[contains(@class, \"_abl-\")]//*[@aria-label=\"Next\"]'))).click()\n",
    "                time.sleep(2)\n",
    "                posts_date = driver.find_element(By.CLASS_NAME, \"_aaqe\").get_attribute('title')\n",
    "                date_object = datetime.datetime.strptime(posts_date, \"%b %d, %Y\").date()\n",
    "\n",
    "            else:\n",
    "                posts_count[user] = 1\n",
    "                WebDriverWait(driver, 20).until(EC.element_to_be_clickable((By.XPATH,\n",
    "                    '//button[contains(@class, \"_abl-\")]//*[@aria-label=\"Next\"]'))).click()\n",
    "                time.sleep(2)\n",
    "                posts_date = driver.find_element(By.CLASS_NAME, \"_aaqe\").get_attribute('title')\n",
    "                date_object = datetime.datetime.strptime(posts_date, \"%b %d, %Y\").date()\n",
    "        driver.back()\n",
    "        driver.back()\n",
    "\n",
    "    WebDriverWait(driver, 20).until(EC.element_to_be_clickable((By.XPATH, '//div//span[text() = \"Home\"]'))).click()\n",
    "    return posts_count\n",
    "\n",
    "users = []\n",
    "for x in followers_count.keys():\n",
    "    users.append(x)"
   ]
  },
  {
   "cell_type": "code",
   "execution_count": 43,
   "id": "e84f3234",
   "metadata": {},
   "outputs": [],
   "source": [
    "posts_count = extract_posts_count(driver,users)"
   ]
  },
  {
   "cell_type": "code",
   "execution_count": 44,
   "id": "8b8d0f92",
   "metadata": {},
   "outputs": [
    {
     "data": {
      "text/plain": [
       "{'food': 2,\n",
       " 'bhopalfoodwalks': 0,\n",
       " 'indian_tasty_food': 0,\n",
       " '_foodie.af_': 0,\n",
       " 'travelbitess': 0}"
      ]
     },
     "execution_count": 44,
     "metadata": {},
     "output_type": "execute_result"
    }
   ],
   "source": [
    "posts_count"
   ]
  },
  {
   "cell_type": "markdown",
   "id": "350d838c",
   "metadata": {},
   "source": [
    "#### Plotting graph of handles vs number of followers"
   ]
  },
  {
   "cell_type": "code",
   "execution_count": 45,
   "id": "991f9f8c",
   "metadata": {},
   "outputs": [],
   "source": [
    "import matplotlib.pyplot as plt"
   ]
  },
  {
   "cell_type": "code",
   "execution_count": 46,
   "id": "2590eea7",
   "metadata": {},
   "outputs": [],
   "source": [
    "users = list(followers_count.keys())\n",
    "followers = list(followers_count.values())"
   ]
  },
  {
   "cell_type": "code",
   "execution_count": 47,
   "id": "985727ef",
   "metadata": {},
   "outputs": [
    {
     "data": {
      "image/png": "[encoded data removed]",
      "text/plain": [
       "<Figure size 432x288 with 1 Axes>"
      ]
     },
     "metadata": {
      "needs_background": "light"
     },
     "output_type": "display_data"
    }
   ],
   "source": [
    "plt.bar(users,followers, color = 'blue')\n",
    "plt.xticks(rotation = 45)\n",
    "plt.xlabel(\"Instagram Handle\",fontweight = \"bold\", size = 13)\n",
    "plt.ylabel(\"Followers\", fontweight = \"bold\", size = 13)\n",
    "plt.show()"
   ]
  },
  {
   "cell_type": "markdown",
   "id": "3c86a1a8",
   "metadata": {},
   "source": [
    "#### Plotting graph of instagram handle vs posts count"
   ]
  },
  {
   "cell_type": "code",
   "execution_count": 48,
   "id": "548bb1e4",
   "metadata": {},
   "outputs": [
    {
     "data": {
      "image/png": "[encoded data removed]",
      "text/plain": [
       "<Figure size 432x288 with 1 Axes>"
      ]
     },
     "metadata": {
      "needs_background": "light"
     },
     "output_type": "display_data"
    }
   ],
   "source": [
    "user_name = list(posts_count.keys())\n",
    "post_count = list(posts_count.values())\n",
    "plt.bar(user_name, post_count, color = 'red')\n",
    "plt.xticks(rotation = 45) # Here the users haven't posted anything that's why some bars are not visible\n",
    "plt.xlabel(\"Instagram Handle\",fontweight = \"bold\", size = 13)\n",
    "plt.ylabel(\"Followers\", fontweight = \"bold\", size = 13)\n",
    "plt.show()"
   ]
  },
  {
   "cell_type": "markdown",
   "id": "b5ae1cc2",
   "metadata": {},
   "source": [
    "### Second Task ( LIST OF HASHTAGS)"
   ]
  },
  {
   "cell_type": "code",
   "execution_count": 49,
   "id": "a15d399b",
   "metadata": {},
   "outputs": [],
   "source": [
    "def extract_hash_tags(handle_names, driver):\n",
    "    tags = {}\n",
    "    for user in handle_names:\n",
    "        search_user(user, driver)\n",
    "        time.sleep(3)\n",
    "        WebDriverWait(driver, 20).until(EC.element_to_be_clickable((By.XPATH, '//div[contains(@class, \"_ac7v  _al3n\")]')))\n",
    "        driver.find_element(By.CLASS_NAME, '_aagu').click()\n",
    "        \n",
    "        for i in range(10):\n",
    "            hash_tags = driver.find_elements(By.XPATH, '//a[contains(@class, \"x1i10hfl xjbqb8w x6umtig x1b1mbwd xaqea5y xav7gou x9f619 x1ypdohk xt0psk2 xe8uvvx xdj266r x11i5rnm xat24cr x1mh8g0r xexx8yu x4uap5 x18d9i69 xkhd6sd x16tdsg8 x1hl2dhg xggy1nq x1a2a7pz  _aa9_ _a6hd\")]')\n",
    "            for tag in hash_tags:\n",
    "                tag = tag.text.split(\"#\")[1]\n",
    "                if tag in tags:\n",
    "                    tags[tag]+=1\n",
    "                else:\n",
    "                    tags[tag] = 1\n",
    "            WebDriverWait(driver, 20).until(EC.element_to_be_clickable((By.XPATH,\n",
    "                                            '//button[contains(@class, \"_abl-\")]//*[@aria-label=\"Next\"]'))).click()\n",
    "        driver.back()\n",
    "        driver.back()\n",
    "        \n",
    "    return tags"
   ]
  },
  {
   "cell_type": "code",
   "execution_count": 50,
   "id": "93f10fc6",
   "metadata": {},
   "outputs": [],
   "source": [
    "all_hash_tags = extract_hash_tags(list(followers_count.keys()), driver)"
   ]
  },
  {
   "cell_type": "code",
   "execution_count": 51,
   "id": "9832d3b4",
   "metadata": {},
   "outputs": [
    {
     "data": {
      "text/plain": [
       "372"
      ]
     },
     "execution_count": 51,
     "metadata": {},
     "output_type": "execute_result"
    }
   ],
   "source": [
    "len(all_hash_tags)"
   ]
  },
  {
   "cell_type": "code",
   "execution_count": 52,
   "id": "64545f63",
   "metadata": {},
   "outputs": [],
   "source": [
    "import pandas as pd\n",
    "\n",
    "df = pd.DataFrame({\"Word\":list(all_hash_tags.keys()), \"frequency\":list(all_hash_tags.values())})\n",
    "df = df.sort_values(by='frequency', ascending=False)"
   ]
  },
  {
   "cell_type": "code",
   "execution_count": 53,
   "id": "523cc068",
   "metadata": {},
   "outputs": [],
   "source": [
    "df.to_csv('Words.csv', index = False)"
   ]
  },
  {
   "cell_type": "code",
   "execution_count": 54,
   "id": "8d2dfd91",
   "metadata": {},
   "outputs": [
    {
     "name": "stdout",
     "output_type": "stream",
     "text": [
      "['bhopal', 'bhopalblogger', 'bhopalfoodblogger', 'bhopalfoodies', 'bhopalfoodwalk']\n"
     ]
    }
   ],
   "source": [
    "ans = df['Word'].to_list()[:5] # extracting top 5 hashtags\n",
    "print(ans)"
   ]
  },
  {
   "cell_type": "code",
   "execution_count": 57,
   "id": "8bea9c66",
   "metadata": {},
   "outputs": [],
   "source": [
    "# SINCE THE QUESTION ASK ME TO FIND THE NUMBER OF TIMES THE HASHTAG HAS BEEN USED BY ALL 5 USER I HAVE TO AGAIN CHECK IT BY SCRAPING POSTS\n",
    "\n",
    "def hash_tags_count(handle_names, driver, tags):\n",
    "    hash_user_count = {}\n",
    "    for user in handle_names:\n",
    "        count = 0\n",
    "        search_user(user, driver)\n",
    "        time.sleep(4)\n",
    "        WebDriverWait(driver, 20).until(EC.element_to_be_clickable((By.XPATH, '//div[contains(@class, \"_ac7v  _al3n\")]')))\n",
    "        driver.find_element(By.CLASS_NAME, '_aagu').click()\n",
    "        \n",
    "        tags_lst = []\n",
    "        for i in range(10):\n",
    "            hash_tags = driver.find_elements(By.XPATH, '//a[contains(@class, \"x1i10hfl xjbqb8w x6umtig x1b1mbwd xaqea5y xav7gou x9f619 x1ypdohk xt0psk2 xe8uvvx xdj266r x11i5rnm xat24cr x1mh8g0r xexx8yu x4uap5 x18d9i69 xkhd6sd x16tdsg8 x1hl2dhg xggy1nq x1a2a7pz  _aa9_ _a6hd\")]')\n",
    "            for tag in hash_tags:\n",
    "                tag = tag.text.split(\"#\")[1]\n",
    "                tags_lst.append(tag)\n",
    "            \n",
    "            for pop_tag in tags:\n",
    "                if pop_tag in tags_lst:\n",
    "                    count+=tags_lst.count(pop_tag)\n",
    "                    \n",
    "            WebDriverWait(driver, 20).until(EC.element_to_be_clickable((By.XPATH,\n",
    "                                            '//button[contains(@class, \"_abl-\")]//*[@aria-label=\"Next\"]'))).click()\n",
    "        hash_user_count[user] = count\n",
    "        driver.back()\n",
    "    return hash_user_count"
   ]
  },
  {
   "cell_type": "code",
   "execution_count": 59,
   "id": "f7444b68",
   "metadata": {},
   "outputs": [],
   "source": [
    "hash_tag_count = hash_tags_count(list(followers_count.keys()), driver, ans)"
   ]
  },
  {
   "cell_type": "code",
   "execution_count": 60,
   "id": "9a7835f3",
   "metadata": {},
   "outputs": [],
   "source": [
    "tags_used_count = list(hash_tag_count.values())\n",
    "user_handle = list(hash_tag_count.keys())"
   ]
  },
  {
   "cell_type": "markdown",
   "id": "2433215c",
   "metadata": {},
   "source": [
    "#### plotting the number of times the bloggers used these top 5 tags as a summation"
   ]
  },
  {
   "cell_type": "code",
   "execution_count": 61,
   "id": "dcf4c02c",
   "metadata": {},
   "outputs": [
    {
     "data": {
      "image/png": "[encoded data removed]",
      "text/plain": [
       "<Figure size 432x288 with 1 Axes>"
      ]
     },
     "metadata": {},
     "output_type": "display_data"
    }
   ],
   "source": [
    "plt.pie(tags_used_count, labels = user_handle, autopct = \"%1.1f%%\")\n",
    "plt.title('Top 5 Hashtags Counts used by bloggers')\n",
    "plt.show()"
   ]
  },
  {
   "cell_type": "markdown",
   "id": "d12761e3",
   "metadata": {},
   "source": [
    "### THIRD TASK (LIKES OF TOP 10 POSTS)"
   ]
  },
  {
   "cell_type": "code",
   "execution_count": 62,
   "id": "88e387ab",
   "metadata": {},
   "outputs": [],
   "source": [
    "def average_follower_like(handle_names, driver):\n",
    "    likes_per_post = {}\n",
    "    follower_count = []\n",
    "    for user in user_handles:\n",
    "        search_user(user, driver)\n",
    "        time.sleep(4)        \n",
    "        \n",
    "        html = driver.find_elements(By.XPATH, '//ul[contains(@class, \"x78zum5 x1q0g3np xieb3on\")]/li')[1].get_attribute('innerHTML')\n",
    "        data = bs(html, \"html.parser\")\n",
    "        follower_num = int(data.find('span')['title'].replace(',',\"\"))\n",
    "        follower_count.append(follower_num)\n",
    "        \n",
    "        WebDriverWait(driver, 20).until(EC.element_to_be_clickable((By.XPATH, '//div[contains(@class, \"_ac7v  _al3n\")]')))\n",
    "        \n",
    "        driver.find_element(By.CLASS_NAME, '_aagu').click()\n",
    "        \n",
    "        likes_lst = []\n",
    "        \n",
    "        while len(likes_lst)<10:\n",
    "            try:\n",
    "                likes_element = driver.find_element(By.XPATH, \"//span[contains(@class, 'x193iq5w xeuugli x1fj9vlw x13faqbe x1vvkbs xt0psk2 x1i0vuye xvs91rp x1s688f x5n08af x10wh9bi x1wdrske x8viiok x18hxmgj')]\")\n",
    "                if \"likes\" in likes_element.text:\n",
    "                    \n",
    "                    likes_lst.append(int(likes_element.text.split('likes')[0].replace(',',\"\").strip()))\n",
    "                    \n",
    "                    WebDriverWait(driver, 20).until(EC.element_to_be_clickable((By.XPATH,\n",
    "                                            '//button[contains(@class, \"_abl-\")]//*[@aria-label=\"Next\"]'))).click()\n",
    "                else:\n",
    "                    WebDriverWait(driver, 20).until(EC.element_to_be_clickable((By.XPATH,\n",
    "                                '//button[contains(@class, \"_abl-\")]//*[@aria-label=\"Next\"]'))).click()\n",
    "            except NoSuchElementException:\n",
    "                WebDriverWait(driver, 20).until(EC.element_to_be_clickable((By.XPATH,\n",
    "                                '//button[contains(@class, \"_abl-\")]//*[@aria-label=\"Next\"]'))).click()\n",
    "        \n",
    "        likes_per_post[user] = likes_lst\n",
    "        driver.back()\n",
    "        driver.back()\n",
    "    return likes_per_post, follower_count"
   ]
  },
  {
   "cell_type": "code",
   "execution_count": 63,
   "id": "bdeb9290",
   "metadata": {},
   "outputs": [],
   "source": [
    "# from selenium.common.exceptions import NoSuchElementException\n",
    "# lst = []\n",
    "# while len(lst)<10:\n",
    "#     try:\n",
    "#         likes_element = driver.find_element(By.XPATH, \"//span[contains(@class, 'x193iq5w xeuugli x1fj9vlw x13faqbe x1vvkbs xt0psk2 x1i0vuye xvs91rp x1s688f x5n08af x10wh9bi x1wdrske x8viiok x18hxmgj')]\")\n",
    "#         if \"likes\" in likes_element.text:\n",
    "#             lst.append(int(likes_element.text.split('likes')[0].replace(',',\"\").strip()))\n",
    "#             WebDriverWait(driver, 20).until(EC.element_to_be_clickable((By.XPATH,\n",
    "#                                     '//button[contains(@class, \"_abl-\")]//*[@aria-label=\"Next\"]'))).click()\n",
    "#         else:\n",
    "#             WebDriverWait(driver, 20).until(EC.element_to_be_clickable((By.XPATH,\n",
    "#                         '//button[contains(@class, \"_abl-\")]//*[@aria-label=\"Next\"]'))).click()\n",
    "#     except NoSuchElementException:\n",
    "#         WebDriverWait(driver, 20).until(EC.element_to_be_clickable((By.XPATH,\n",
    "#                         '//button[contains(@class, \"_abl-\")]//*[@aria-label=\"Next\"]'))).click()\n",
    "# driver.back()\n",
    "# driver.back()\n",
    "# print(lst)"
   ]
  },
  {
   "cell_type": "code",
   "execution_count": 69,
   "id": "cf55f9ac",
   "metadata": {},
   "outputs": [],
   "source": [
    "user_handles = list(followers_count.keys())\n",
    "user_likes, follower_count = average_follower_like(user_handles, driver)"
   ]
  },
  {
   "cell_type": "code",
   "execution_count": 70,
   "id": "c0cf6bea",
   "metadata": {},
   "outputs": [
    {
     "data": {
      "text/plain": [
       "{'food': [85, 291, 512, 212, 181, 841, 220, 378, 884, 470],\n",
       " 'bhopalfoodwalks': [3364, 125, 2117, 784, 230, 359, 354, 1044, 569, 1199],\n",
       " 'indian_tasty_food': [255, 180, 245, 197, 274, 191, 380, 235, 165, 34],\n",
       " '_foodie.af_': [1490, 4386, 204, 934, 402, 1547, 477, 2178, 889, 429],\n",
       " 'travelbitess': [296, 423, 190, 10701, 650, 296, 240, 1076, 310, 12260]}"
      ]
     },
     "execution_count": 70,
     "metadata": {},
     "output_type": "execute_result"
    }
   ],
   "source": [
    "user_likes"
   ]
  },
  {
   "cell_type": "code",
   "execution_count": 71,
   "id": "8444a69c",
   "metadata": {},
   "outputs": [
    {
     "data": {
      "text/plain": [
       "{'food': 407,\n",
       " 'bhopalfoodwalks': 1014,\n",
       " 'indian_tasty_food': 215,\n",
       " '_foodie.af_': 1293,\n",
       " 'travelbitess': 2644}"
      ]
     },
     "execution_count": 71,
     "metadata": {},
     "output_type": "execute_result"
    }
   ],
   "source": [
    "average_likes_handle = {}\n",
    "for user in user_likes.keys():\n",
    "    average_likes_handle[user] = sum(user_likes[user])//10\n",
    "average_likes_handle"
   ]
  },
  {
   "cell_type": "code",
   "execution_count": 72,
   "id": "5762fafc",
   "metadata": {},
   "outputs": [],
   "source": [
    "average_likes_follower = {}\n",
    "for user, f_count in zip(average_likes_handle.keys(), follower_count):\n",
    "    average_likes_follower[user] = f_count//average_likes_handle[user]"
   ]
  },
  {
   "cell_type": "code",
   "execution_count": 73,
   "id": "728d7e6f",
   "metadata": {},
   "outputs": [
    {
     "data": {
      "text/plain": [
       "{'food': 448,\n",
       " 'bhopalfoodwalks': 29,\n",
       " 'indian_tasty_food': 87,\n",
       " '_foodie.af_': 11,\n",
       " 'travelbitess': 4}"
      ]
     },
     "execution_count": 73,
     "metadata": {},
     "output_type": "execute_result"
    }
   ],
   "source": [
    "average_likes_follower"
   ]
  },
  {
   "cell_type": "markdown",
   "id": "41daed34",
   "metadata": {},
   "source": [
    "#### Plotting the above gathered information in bar chart( average likes of handles)"
   ]
  },
  {
   "cell_type": "code",
   "execution_count": 75,
   "id": "fa542529",
   "metadata": {},
   "outputs": [
    {
     "data": {
      "image/png": "[encoded data removed]",
      "text/plain": [
       "<Figure size 432x288 with 1 Axes>"
      ]
     },
     "metadata": {
      "needs_background": "light"
     },
     "output_type": "display_data"
    }
   ],
   "source": [
    "user_handle = list(average_likes_handle.keys())\n",
    "avg_likes = list(average_likes_handle.values())\n",
    "plt.bar(user_handle, avg_likes, color = 'cyan')\n",
    "plt.xticks(rotation = 45)\n",
    "plt.xlabel(\"Instagram Handle\",fontweight = \"bold\", size = 13)\n",
    "plt.ylabel(\"Average Likes\", fontweight = \"bold\", size = 13)\n",
    "plt.show()"
   ]
  },
  {
   "cell_type": "markdown",
   "id": "9f676350",
   "metadata": {},
   "source": [
    "#### Plotting the above gathered information in bar chart( Followers : Likes ratio )"
   ]
  },
  {
   "cell_type": "code",
   "execution_count": 76,
   "id": "67235a39",
   "metadata": {},
   "outputs": [
    {
     "data": {
      "image/png": "[encoded data removed]",
      "text/plain": [
       "<Figure size 432x288 with 1 Axes>"
      ]
     },
     "metadata": {
      "needs_background": "light"
     },
     "output_type": "display_data"
    }
   ],
   "source": [
    "user_handle = list(average_likes_follower.keys())\n",
    "avg_likes = list(average_likes_follower.values())\n",
    "plt.bar(user_handle, avg_likes, color = 'purple')\n",
    "plt.xticks(rotation = 45)\n",
    "plt.xlabel(\"Instagram Handle\",fontweight = \"bold\", size = 13)\n",
    "plt.ylabel(\"Followers: average like ratio\", fontweight = \"bold\", size = 13)\n",
    "plt.show()"
   ]
  },
  {
   "cell_type": "code",
   "execution_count": null,
   "id": "c4660126",
   "metadata": {},
   "outputs": [],
   "source": []
  }
 ],
 "metadata": {
  "kernelspec": {
   "display_name": "Python 3",
   "language": "python",
   "name": "python3"
  },
  "language_info": {
   "codemirror_mode": {
    "name": "ipython",
    "version": 3
   },
   "file_extension": ".py",
   "mimetype": "text/x-python",
   "name": "python",
   "nbconvert_exporter": "python",
   "pygments_lexer": "ipython3",
   "version": "3.8.8"
  }
 },
 "nbformat": 4,
 "nbformat_minor": 5
}
